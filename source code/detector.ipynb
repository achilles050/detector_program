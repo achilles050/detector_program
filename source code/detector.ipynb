{
 "cells": [
  {
   "cell_type": "code",
   "execution_count": 5,
   "metadata": {},
   "outputs": [],
   "source": [
    "import os\n",
    "import numpy as np\n",
    "import cv2\n",
    "\n",
    "import pickle\n",
    "face_mask = ['No mask', 'Masked']"
   ]
  },
  {
   "cell_type": "code",
   "execution_count": null,
   "metadata": {},
   "outputs": [],
   "source": []
  },
  {
   "cell_type": "code",
   "execution_count": 6,
   "metadata": {},
   "outputs": [],
   "source": [
    "def LoR_create_Xb(X):\n",
    "    N = X.shape[0]\n",
    "    ones = np.ones([N, 1])\n",
    "    Xb = np.hstack([ones, X])\n",
    "    return Xb"
   ]
  },
  {
   "cell_type": "code",
   "execution_count": 7,
   "metadata": {},
   "outputs": [],
   "source": [
    "def predict(X, W): #LoR_find_Yhat_mul_class\n",
    "    Xb = LoR_create_Xb(X)\n",
    "    Z = np.dot(Xb, W)\n",
    "    Yhat = np.exp(Z)/np.exp(Z).sum(axis=1, keepdims = True)\n",
    "    return Yhat"
   ]
  },
  {
   "cell_type": "code",
   "execution_count": 8,
   "metadata": {},
   "outputs": [],
   "source": [
    "def rgb2gray(rgb):\n",
    "    return np.dot(rgb[...,:3], [0.333333, 0.3333, 0.3333])"
   ]
  },
  {
   "cell_type": "code",
   "execution_count": null,
   "metadata": {},
   "outputs": [],
   "source": []
  },
  {
   "cell_type": "code",
   "execution_count": 9,
   "metadata": {},
   "outputs": [],
   "source": [
    "# Load face detection and face mask model\n",
    "\n",
    "with open ('outfile', 'rb') as fp:\n",
    "    myW = pickle.load(fp)\n",
    "\n",
    "faceNet = cv2.dnn.readNet(os.path.join(r'deploy.prototxt.txt'),\n",
    "                          os.path.join('res10_300x300_ssd_iter_140000.caffemodel'))"
   ]
  },
  {
   "cell_type": "code",
   "execution_count": 10,
   "metadata": {},
   "outputs": [],
   "source": [
    "cap = cv2.VideoCapture(0)\n",
    "frame_width = int(cap.get(9))\n",
    "frame_height = int(cap.get(16))"
   ]
  },
  {
   "cell_type": "code",
   "execution_count": 11,
   "metadata": {},
   "outputs": [
    {
     "name": "stderr",
     "output_type": "stream",
     "text": [
      "<ipython-input-7-c67ca084b7db>:4: RuntimeWarning: overflow encountered in exp\n",
      "  Yhat = np.exp(Z)/np.exp(Z).sum(axis=1, keepdims = True)\n",
      "<ipython-input-7-c67ca084b7db>:4: RuntimeWarning: invalid value encountered in true_divide\n",
      "  Yhat = np.exp(Z)/np.exp(Z).sum(axis=1, keepdims = True)\n"
     ]
    }
   ],
   "source": [
    "while True:\n",
    "    ret, frame = cap.read()\n",
    "    frame = cv2.flip(frame, 1)\n",
    "    (h, w) = frame.shape[:2]\n",
    "    blob = cv2.dnn.blobFromImage(frame, 1.0, (300, 300), (104.0, 177.0, 123.0))\n",
    "    faceNet.setInput(blob)\n",
    "    detections = faceNet.forward()\n",
    "    \n",
    "    image_train = np.empty((0,15552), int) #5184\n",
    "\n",
    "    for i in range(0, detections.shape[2]):\n",
    "        confidence = detections[0, 0, i, 2]\n",
    "\n",
    "        if confidence < 0.5:\n",
    "            continue\n",
    "\n",
    "        box = detections[0, 0, i, 3:7] * np.array([w, h, w, h])\n",
    "        (startX, startY, endX, endY) = box.astype('int')\n",
    "        (startX, startY) = (max(0, startX), max(0, startY))\n",
    "        (endX, endY) = (min(w - 1, endX), min(h - 1, endY))\n",
    "        face = frame[startY:endY, startX:endX]\n",
    "        face = cv2.cvtColor(face, cv2.COLOR_BGR2RGB)\n",
    "        face = cv2.resize(face, (54, 96))\n",
    "        #face = rgb2gray(face) #for converse to GRAY picture\n",
    "        image = np.array(face)\n",
    "        image = image.reshape(1, -1)\n",
    "        image_train = np.vstack((image_train, image))/255.0\n",
    "        result = np.argmax(predict(image, myW))\n",
    "\n",
    "        if result == 0:\n",
    "            label = face_mask[result]\n",
    "            color = (0, 0, 255)\n",
    "        else:\n",
    "            label = face_mask[result]\n",
    "            color = (0, 255, 0)\n",
    "\n",
    "        frame = cv2.rectangle(frame, (startX, startY), (endX, endY), color, 3)\n",
    "\n",
    "\n",
    "    cv2.namedWindow('Video', cv2.WINDOW_NORMAL)\n",
    "    cv2.resizeWindow('Video', 1600, 900)\n",
    "    cv2.imshow('Video', frame)\n",
    "\n",
    "    if cv2.waitKey(1) & 0xFF == ord('q'):\n",
    "        break\n",
    "\n",
    "cap.release()\n",
    "cv2.destroyAllWindows()"
   ]
  },
  {
   "cell_type": "code",
   "execution_count": null,
   "metadata": {},
   "outputs": [],
   "source": []
  }
 ],
 "metadata": {
  "kernelspec": {
   "display_name": "Python 3",
   "language": "python",
   "name": "python3"
  },
  "language_info": {
   "codemirror_mode": {
    "name": "ipython",
    "version": 3
   },
   "file_extension": ".py",
   "mimetype": "text/x-python",
   "name": "python",
   "nbconvert_exporter": "python",
   "pygments_lexer": "ipython3",
   "version": "3.8.6"
  }
 },
 "nbformat": 4,
 "nbformat_minor": 4
}
